{
 "cells": [
  {
   "cell_type": "code",
   "execution_count": 1,
   "id": "6b16dde3",
   "metadata": {},
   "outputs": [],
   "source": [
    "import sys\n",
    "sys.path.append(\"/Users/eleni/Desktop/desc/glass-jax/glass/\")\n",
    "\n",
    "import numpy as np"
   ]
  },
  {
   "cell_type": "code",
   "execution_count": 3,
   "id": "293b47e6",
   "metadata": {},
   "outputs": [
    {
     "name": "stdout",
     "output_type": "stream",
     "text": [
      "1510\n"
     ]
    }
   ],
   "source": [
    "\"\"\" \n",
    "Here we check if new jax modules pass basic syntax checks,\n",
    "formulated as simple calls to each jaxified function.\n",
    "\"\"\"\n",
    "\n",
    "import observations as jax_obs\n",
    "\n",
    "jaxobs1=jax_obs.vmap_galactic_ecliptic(nside=64)\n",
    "jaxobs2=jax_obs.gaussian_nz(z=np.ones(1), mean=np.ones(1), sigma=np.ones(1))\n",
    "jaxobs3=jax_obs.smail_nz(z=np.ones(1), z_mode=np.ones(1), alpha=1, beta=1)\n",
    "jaxobs4=jax_obs.fixed_zbins(zmin=0, zmax=1.5, nbins=2)\n",
    "jaxobs5=jax_obs.equal_dens_zbins(z=np.ones(10), nz=np.ones(10), nbins=2)\n",
    "jaxobs6=jax_obs.tomo_nz_gausserr(z=np.ones(10), nz=np.ones(10), sigma_0=1, zbins=[np.linspace(0,1,1), np.linspace(0,1,1)])\n",
    "\n",
    "import math_utils as jax_mu\n",
    "\n",
    "jaxmu1=jax_mu.ndinterp(np.ones(10), np.linspace(0,1,10), np.linspace(0,1,10))\n",
    "jaxmu2=jax_mu.trapz_product((np.linspace(0,1,10), np.linspace(0,1,10)), (np.linspace(0,1,10), np.linspace(0,1,10)))\n",
    "jaxmu3=jax_mu.cumtrapz(np.linspace(0,1,10), np.linspace(0,1,10))\n",
    "\n",
    "import galaxies as jax_gals\n",
    "\n",
    "jaxgals1=jax_gals.redshifts_from_nz(size=10, z=np.linspace(0,1,10), nz=np.linspace(0,1,10))\n",
    "jaxgals2=jax_gals.galaxy_shear(lon=np.arange(0,1,10), lat=np.arange(0,1,10), eps=np.arange(0,1,10), kappa=np.arange(0,1,10), gamma1=np.arange(0,1,10), gamma2=np.arange(0,1,10))\n",
    "\n",
    "import points as jax_pts\n",
    "\n",
    "jaxpts1=jax_pts.effective_bias(np.linspace(0.,1,10), np.linspace(0.,1,10), np.linspace(0.,1,10), np.linspace(0.,1,10))\n",
    "jaxpts2=jax_pts.linear_bias(1,2)\n",
    "jaxpts3=jax_pts.loglinear_bias(np.ones(1), 2*np.ones(1))\n",
    "jaxpts4=jax_pts.positions_from_delta(np.ones(12*1**2),np.ones(12*1**2))\n",
    "jaxpts5=jax_pts.uniform_positions(0.00001)"
   ]
  },
  {
   "cell_type": "code",
   "execution_count": null,
   "id": "3a7f68ee",
   "metadata": {},
   "outputs": [],
   "source": []
  },
  {
   "cell_type": "code",
   "execution_count": null,
   "id": "63433f84",
   "metadata": {},
   "outputs": [],
   "source": []
  },
  {
   "cell_type": "code",
   "execution_count": null,
   "id": "9e0148ec",
   "metadata": {},
   "outputs": [],
   "source": []
  },
  {
   "cell_type": "code",
   "execution_count": null,
   "id": "fe24e61d",
   "metadata": {},
   "outputs": [],
   "source": []
  },
  {
   "cell_type": "code",
   "execution_count": null,
   "id": "efac8b25",
   "metadata": {},
   "outputs": [],
   "source": []
  },
  {
   "cell_type": "code",
   "execution_count": null,
   "id": "ecc77beb",
   "metadata": {},
   "outputs": [],
   "source": []
  },
  {
   "cell_type": "code",
   "execution_count": null,
   "id": "6e8201bd",
   "metadata": {},
   "outputs": [],
   "source": []
  },
  {
   "cell_type": "code",
   "execution_count": null,
   "id": "87d539d1",
   "metadata": {},
   "outputs": [],
   "source": []
  },
  {
   "cell_type": "code",
   "execution_count": null,
   "id": "c718aeba",
   "metadata": {},
   "outputs": [],
   "source": []
  },
  {
   "cell_type": "code",
   "execution_count": null,
   "id": "3853aba0",
   "metadata": {},
   "outputs": [],
   "source": []
  },
  {
   "cell_type": "code",
   "execution_count": null,
   "id": "a64c378e",
   "metadata": {},
   "outputs": [],
   "source": []
  },
  {
   "cell_type": "code",
   "execution_count": null,
   "id": "ff301b7c",
   "metadata": {},
   "outputs": [],
   "source": []
  },
  {
   "cell_type": "code",
   "execution_count": null,
   "id": "36d7c85d",
   "metadata": {},
   "outputs": [],
   "source": []
  }
 ],
 "metadata": {
  "kernelspec": {
   "display_name": "Python [conda env:root] *",
   "language": "python",
   "name": "conda-root-py"
  },
  "language_info": {
   "codemirror_mode": {
    "name": "ipython",
    "version": 3
   },
   "file_extension": ".py",
   "mimetype": "text/x-python",
   "name": "python",
   "nbconvert_exporter": "python",
   "pygments_lexer": "ipython3",
   "version": "3.8.12"
  }
 },
 "nbformat": 4,
 "nbformat_minor": 5
}
