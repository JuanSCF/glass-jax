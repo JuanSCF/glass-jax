{
 "cells": [
  {
   "cell_type": "code",
   "execution_count": null,
   "id": "6e88fb69",
   "metadata": {},
   "outputs": [],
   "source": [
    "\"\"\"\n",
    "Here we want to check consistency with the pure Python glass version.\n",
    "Given the same input, does glass-jax produce the same output as glass?\n",
    "Restart your kernel and run.\n",
    "\"\"\"\n",
    "\n",
    "import sys\n",
    "sys.path.append(\"/Users/eleni/Desktop/desc/glass/glass\")\n",
    "\n",
    "import numpy as np\n",
    "\n",
    "import observations as obs\n",
    "\n",
    "obs1=obs.vmap_galactic_ecliptic(nside=64)\n",
    "obs2=obs.gaussian_nz(z=np.ones(1), mean=np.ones(1), sigma=np.ones(1))\n",
    "obs3=obs.smail_nz(z=np.ones(1), z_mode=np.ones(1), alpha=1, beta=1)\n",
    "#obs4=obs.fixed_zbins(zmin=0, zmax=1.5, nbins=2) # ValueError: exactly one of nbins and dz must be given\n",
    "obs5=obs.equal_dens_zbins(z=np.ones(10), nz=np.ones(10), nbins=2)\n",
    "#obs6=obs.tomo_nz_gausserr(z=np.ones(10), nz=np.ones(10), sigma_0=1, zbins=[np.linspace(0,1,1), np.linspace(0,1,1)]) #IndexError: index 1 is out of bounds for axis 1 with size 1\n",
    "\n",
    "import math_utils as mu\n",
    "\n",
    "mu1=mu.ndinterp(np.ones(10), np.linspace(0,1,10), np.linspace(0,1,10))\n",
    "mu2=mu.trapz_product((np.linspace(0,1,10), np.linspace(0,1,10)), (np.linspace(0,1,10), np.linspace(0,1,10)))\n",
    "mu3=mu.cumtrapz(np.linspace(0,1,10), np.linspace(0,1,10))\n",
    "\n",
    "import galaxies as gals\n",
    "\n",
    "gals1=gals.redshifts_from_nz(size=10, z=np.linspace(0,1,10), nz=np.linspace(0,1,10))\n",
    "# TypeError: 'tuple' object cannot be interpreted as an integer\n",
    "#gals2 = gals.galaxy_shear(lon=np.arange(0,1,10), lat=np.arange(0,1,10), eps=np.arange(0,1,10), kappa=np.arange(0,1,10), gamma1=np.arange(0,1,10), gamma2=np.arange(0,1,10)) \n",
    "\n",
    "import points as pts\n",
    "\n",
    "pts1=pts.effective_bias(np.linspace(0.,1,10), np.linspace(0.,1,10), np.linspace(0.,1,10), np.linspace(0.,1,10))\n",
    "pts2=pts.linear_bias(1,2)\n",
    "pts3=pts.loglinear_bias(np.ones(1), 2*np.ones(1))\n",
    "pts4=pts.positions_from_delta(np.ones(12*1**2),np.ones(12*1**2))\n",
    "pts5=pts.uniform_positions(0.00001)"
   ]
  },
  {
   "cell_type": "code",
   "execution_count": null,
   "id": "50210076",
   "metadata": {},
   "outputs": [],
   "source": []
  }
 ],
 "metadata": {
  "kernelspec": {
   "display_name": "Python [conda env:root] *",
   "language": "python",
   "name": "conda-root-py"
  },
  "language_info": {
   "codemirror_mode": {
    "name": "ipython",
    "version": 3
   },
   "file_extension": ".py",
   "mimetype": "text/x-python",
   "name": "python",
   "nbconvert_exporter": "python",
   "pygments_lexer": "ipython3",
   "version": "3.8.12"
  }
 },
 "nbformat": 4,
 "nbformat_minor": 5
}
